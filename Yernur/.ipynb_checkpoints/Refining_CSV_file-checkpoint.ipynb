{
 "cells": [
  {
   "cell_type": "code",
   "execution_count": 20,
   "id": "dea0f63f-e4cb-4983-8135-bb8d6ba6d59c",
   "metadata": {},
   "outputs": [],
   "source": [
    "# Code below refines the csv of our dataset:\n",
    "# 1. Deletes blank column \"Requirements\" from the dataset\n",
    "# 2. Translates comma seperation to semicolon seperation of the csv file\n",
    "# 2. Explicitly states the encoding of the csv file as utf-8\n",
    "\n",
    "import numpy as np\n",
    "import pandas as pd\n",
    "import chardet"
   ]
  },
  {
   "cell_type": "code",
   "execution_count": 12,
   "id": "c43e20de-821c-4478-9cc9-4d1b3743415f",
   "metadata": {},
   "outputs": [],
   "source": [
    "csv_0 = pd.read_csv('job_listings_all_pages.csv')\n",
    "csv_1 = csv_0[['Job Title', 'Company', 'Experience', 'Salary', 'Link']]\n",
    "csv_1.info()"
   ]
  },
  {
   "cell_type": "code",
   "execution_count": 21,
   "id": "c526f98e-22c3-4e72-860d-f1483007f2bc",
   "metadata": {},
   "outputs": [],
   "source": [
    "# My first failed attempt to convert commas to semicolons. It converted comments in the cells\n",
    "\n",
    "for i in range (1,5):\n",
    "    csv_1.iloc[:,i] = csv_1.iloc[:,i].str.replace(',', ';', regex=False)\n",
    "\n",
    "csv_1.to_csv('job_listings_all_pages_1.csv', index = False)"
   ]
  },
  {
   "cell_type": "code",
   "execution_count": null,
   "id": "234b655b-ee37-4c41-825a-2f5231f314a9",
   "metadata": {},
   "outputs": [],
   "source": [
    "csv_1.to_csv('job_listings_all_pages.csv_2.csv', sep=';', index=False)"
   ]
  },
  {
   "cell_type": "code",
   "execution_count": 16,
   "id": "d41e1e72-380a-41c9-8fef-76b6087ed80d",
   "metadata": {},
   "outputs": [],
   "source": [
    "csv_1.to_csv('job_listings_all_pages.csv_3.csv', sep=';', encoding='utf-8', index=False)"
   ]
  },
  {
   "cell_type": "code",
   "execution_count": 19,
   "id": "032c25ad-6921-45ec-97c1-7f12d54df822",
   "metadata": {},
   "outputs": [
    {
     "name": "stdout",
     "output_type": "stream",
     "text": [
      "utf-8\n"
     ]
    }
   ],
   "source": [
    "# Check the scv file for encoding\n",
    "\n",
    "with open('job_listings_all_pages.csv_3.csv', 'rb') as file:\n",
    "    result = chardet.detect(file.read(10000))\n",
    "    print(result['encoding'])"
   ]
  }
 ],
 "metadata": {
  "kernelspec": {
   "display_name": "Python 3 (ipykernel)",
   "language": "python",
   "name": "python3"
  },
  "language_info": {
   "codemirror_mode": {
    "name": "ipython",
    "version": 3
   },
   "file_extension": ".py",
   "mimetype": "text/x-python",
   "name": "python",
   "nbconvert_exporter": "python",
   "pygments_lexer": "ipython3",
   "version": "3.10.12"
  }
 },
 "nbformat": 4,
 "nbformat_minor": 5
}
