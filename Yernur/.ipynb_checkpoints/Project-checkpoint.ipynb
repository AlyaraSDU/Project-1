{
 "cells": [
  {
   "cell_type": "code",
   "execution_count": 306,
   "id": "e3f70567-44e1-4335-b2fe-2574941837df",
   "metadata": {},
   "outputs": [],
   "source": [
    "import numpy as np\n",
    "import pandas as pd"
   ]
  },
  {
   "cell_type": "code",
   "execution_count": 307,
   "id": "0a2ca862-d88a-465c-a6ae-4f7d2f7e0cba",
   "metadata": {},
   "outputs": [],
   "source": [
    "# Make an Excel file consisting only of titles of vacancies\n",
    "\n",
    "df = pd.read_excel('job_listings_all_pages.xlsx')\n",
    "df_work = df['Job Title']\n",
    "# df_work.to_excel('titles.xlsx', index = False)"
   ]
  },
  {
   "cell_type": "code",
   "execution_count": 308,
   "id": "8c91990d-0253-4da4-af5b-a97ff0481ff4",
   "metadata": {},
   "outputs": [
    {
     "name": "stdout",
     "output_type": "stream",
     "text": [
      "<class 'pandas.core.frame.DataFrame'>\n",
      "RangeIndex: 1128 entries, 0 to 1127\n",
      "Data columns (total 6 columns):\n",
      " #   Column        Non-Null Count  Dtype \n",
      "---  ------        --------------  ----- \n",
      " 0   Job Title     1128 non-null   object\n",
      " 1   Company       1128 non-null   object\n",
      " 2   Experience    1128 non-null   object\n",
      " 3   Salary        1128 non-null   object\n",
      " 4   Requirements  1128 non-null   object\n",
      " 5   Link          1128 non-null   object\n",
      "dtypes: object(6)\n",
      "memory usage: 53.0+ KB\n"
     ]
    }
   ],
   "source": [
    "df.info()"
   ]
  },
  {
   "cell_type": "code",
   "execution_count": 309,
   "id": "db822bf9-0cc0-4383-aa33-0d15ed65cda2",
   "metadata": {},
   "outputs": [],
   "source": [
    "# Convert every title to lower case and delete missing values\n",
    "\n",
    "df_work = df_work.str.lower()\n",
    "df_work = df_work.dropna()"
   ]
  },
  {
   "cell_type": "code",
   "execution_count": 310,
   "id": "0cce39fb-7632-434d-8d3d-e80155a4e6cf",
   "metadata": {},
   "outputs": [
    {
     "data": {
      "text/plain": [
       "9                младший специалист технической поддержки\n",
       "16                         junior cyber security engineer\n",
       "32                                  младший it специалист\n",
       "41                              junior frontend developer\n",
       "42                            junior python rpa developer\n",
       "63                      junior analyst / младший аналитик\n",
       "84                          junior backend go разработчик\n",
       "100                                junior devops engineer\n",
       "140                   qa-engineer (manual, junior/middle)\n",
       "190              младший специалист технической поддержки\n",
       "205                             .net разработчик junior +\n",
       "216                                   junior ai developer\n",
       "330                  customer support junior / specialist\n",
       "343                         junior l1 operations engineer\n",
       "354                          младший инженер ит поддержки\n",
       "377                                  junior sales support\n",
       "488     junior tech support specialist (24/7 live-chat...\n",
       "554                                junior product manager\n",
       "560                                 junior .net developer\n",
       "646               business/system analyst (junior-middle)\n",
       "693       1с разработчик (уровень junior, работа с офиса)\n",
       "991                     junior frontend developer (react)\n",
       "994                           junior frontend разработчик\n",
       "996      младший системный аналитик/junior system analyst\n",
       "1004     junior full stack developer (no-code / low-code)\n",
       "1056                                   тестировщик junior\n",
       "Name: Job Title, dtype: object"
      ]
     },
     "execution_count": 310,
     "metadata": {},
     "output_type": "execute_result"
    }
   ],
   "source": [
    "# Select raws that contain words \"junior\" and \"младший\"\n",
    "\n",
    "junior = df_work[df_work.str.contains('junior|младший')]\n",
    "junior"
   ]
  },
  {
   "cell_type": "code",
   "execution_count": 311,
   "id": "e396e0af-5947-47fc-b44a-bd90dfc67f20",
   "metadata": {},
   "outputs": [
    {
     "name": "stdout",
     "output_type": "stream",
     "text": [
      "<class 'pandas.core.series.Series'>\n",
      "RangeIndex: 26 entries, 0 to 25\n",
      "Series name: Job Title\n",
      "Non-Null Count  Dtype \n",
      "--------------  ----- \n",
      "26 non-null     object\n",
      "dtypes: object(1)\n",
      "memory usage: 336.0+ bytes\n"
     ]
    }
   ],
   "source": [
    "# Reset old indexing so new indexing will be from 0 to 25\n",
    "\n",
    "junior = junior.reset_index(drop=True)\n",
    "junior.info()"
   ]
  },
  {
   "cell_type": "code",
   "execution_count": 312,
   "id": "1ae5cb61-7310-4489-bc3c-ffa87ba6cb47",
   "metadata": {},
   "outputs": [
    {
     "data": {
      "text/plain": [
       "0              младший специалист технической поддержки\n",
       "1                        junior cyber security engineer\n",
       "2                                 младший it специалист\n",
       "3                             junior frontend developer\n",
       "4                           junior python rpa developer\n",
       "5                     junior analyst / младший аналитик\n",
       "6                         junior backend go разработчик\n",
       "7                                junior devops engineer\n",
       "8                   qa-engineer (manual, junior/middle)\n",
       "9              младший специалист технической поддержки\n",
       "10                            .net разработчик junior +\n",
       "11                                  junior ai developer\n",
       "12                 customer support junior / specialist\n",
       "13                        junior l1 operations engineer\n",
       "14                         младший инженер ит поддержки\n",
       "15                                 junior sales support\n",
       "16    junior tech support specialist (24/7 live-chat...\n",
       "17                               junior product manager\n",
       "18                                junior .net developer\n",
       "19              business/system analyst (junior-middle)\n",
       "20      1с разработчик (уровень junior, работа с офиса)\n",
       "21                    junior frontend developer (react)\n",
       "22                          junior frontend разработчик\n",
       "23     младший системный аналитик/junior system analyst\n",
       "24     junior full stack developer (no-code / low-code)\n",
       "25                                   тестировщик junior\n",
       "Name: Job Title, dtype: object"
      ]
     },
     "execution_count": 312,
     "metadata": {},
     "output_type": "execute_result"
    }
   ],
   "source": [
    "junior"
   ]
  },
  {
   "cell_type": "code",
   "execution_count": 313,
   "id": "11043971-3e45-46df-b09f-145b81154d1a",
   "metadata": {},
   "outputs": [
    {
     "data": {
      "text/plain": [
       "{'Helpdesk': ['специалист', 'specialist', 'поддержки', 'l1', 'product'],\n",
       " 'Cybersecurity': ['cyber'],\n",
       " 'Front end': ['frontend'],\n",
       " 'Python': ['python'],\n",
       " 'Analyst': ['analyst', 'аналитик', 'sales'],\n",
       " 'Back end': ['backend'],\n",
       " 'DevOps': ['devops'],\n",
       " 'Tester': ['qa-engineer', 'тестировщик'],\n",
       " '.NET developer': ['.net'],\n",
       " 'AI developer': ['ai'],\n",
       " '1C developer': ['1с'],\n",
       " 'Full stack': ['full']}"
      ]
     },
     "execution_count": 313,
     "metadata": {},
     "output_type": "execute_result"
    }
   ],
   "source": [
    "result_dic = {\n",
    "    \"Helpdesk\": [\"специалист\", \"specialist\", \"поддержки\", \"l1\", \"product\"],\n",
    "    \"Cybersecurity\": [\"cyber\"],\n",
    "    \"Front end\": [\"frontend\"],\n",
    "    \"Python\": [\"python\"],\n",
    "    \"Analyst\": [\"analyst\", \"аналитик\", \"sales\"],\n",
    "    \"Back end\": [\"backend\"],\n",
    "    \"DevOps\": [\"devops\"],\n",
    "    \"Tester\": [\"qa-engineer\", \"тестировщик\"],\n",
    "    \".NET developer\": [\".net\"],\n",
    "    \"AI developer\": [\"ai\"],\n",
    "    \"1C developer\": [\"1с\"],\n",
    "    \"Full stack\": [\"full\"]\n",
    "}\n",
    "result_dic"
   ]
  }
 ],
 "metadata": {
  "kernelspec": {
   "display_name": "Python 3 (ipykernel)",
   "language": "python",
   "name": "python3"
  },
  "language_info": {
   "codemirror_mode": {
    "name": "ipython",
    "version": 3
   },
   "file_extension": ".py",
   "mimetype": "text/x-python",
   "name": "python",
   "nbconvert_exporter": "python",
   "pygments_lexer": "ipython3",
   "version": "3.10.12"
  }
 },
 "nbformat": 4,
 "nbformat_minor": 5
}
