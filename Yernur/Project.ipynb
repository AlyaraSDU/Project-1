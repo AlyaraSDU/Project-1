{
 "cells": [
  {
   "cell_type": "code",
   "execution_count": 1,
   "id": "0a2ca862-d88a-465c-a6ae-4f7d2f7e0cba",
   "metadata": {},
   "outputs": [],
   "source": [
    "# Make an Excel file consisting only of titles of vacancies\n",
    "\n",
    "import numpy as np\n",
    "import pandas as pd\n",
    "df = pd.read_excel('job_listings_all_pages.xlsx')\n",
    "df_work = df['Job Title']\n",
    "df_work.to_excel('titles.xlsx', index = False)"
   ]
  }
 ],
 "metadata": {
  "kernelspec": {
   "display_name": "Python 3 (ipykernel)",
   "language": "python",
   "name": "python3"
  },
  "language_info": {
   "codemirror_mode": {
    "name": "ipython",
    "version": 3
   },
   "file_extension": ".py",
   "mimetype": "text/x-python",
   "name": "python",
   "nbconvert_exporter": "python",
   "pygments_lexer": "ipython3",
   "version": "3.10.12"
  }
 },
 "nbformat": 4,
 "nbformat_minor": 5
}
