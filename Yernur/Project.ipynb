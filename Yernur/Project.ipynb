{
 "cells": [
  {
   "cell_type": "code",
   "execution_count": 1,
   "id": "e3f70567-44e1-4335-b2fe-2574941837df",
   "metadata": {},
   "outputs": [],
   "source": [
    "import numpy as np\n",
    "import pandas as pd"
   ]
  },
  {
   "cell_type": "code",
   "execution_count": 45,
   "id": "0a2ca862-d88a-465c-a6ae-4f7d2f7e0cba",
   "metadata": {},
   "outputs": [],
   "source": [
    "# Make an Excel file consisting only of titles of vacancies\n",
    "\n",
    "df = pd.read_excel('job_listings_all_pages.xlsx')\n",
    "df_work = df['Job Title']\n",
    "# df_work.to_excel('titles.xlsx', index = False)"
   ]
  },
  {
   "cell_type": "code",
   "execution_count": 51,
   "id": "db822bf9-0cc0-4383-aa33-0d15ed65cda2",
   "metadata": {},
   "outputs": [],
   "source": [
    "# Convert every title to lower case and delete missing values\n",
    "\n",
    "df_work = df_work.str.lower()\n",
    "df_work = df_work.dropna()"
   ]
  },
  {
   "cell_type": "code",
   "execution_count": 52,
   "id": "0cce39fb-7632-434d-8d3d-e80155a4e6cf",
   "metadata": {},
   "outputs": [
    {
     "data": {
      "text/plain": [
       "9                младший специалист технической поддержки\n",
       "16                         junior cyber security engineer\n",
       "32                                  младший it специалист\n",
       "41                              junior frontend developer\n",
       "42                            junior python rpa developer\n",
       "63                      junior analyst / младший аналитик\n",
       "84                          junior backend go разработчик\n",
       "100                                junior devops engineer\n",
       "140                   qa-engineer (manual, junior/middle)\n",
       "190              младший специалист технической поддержки\n",
       "205                             .net разработчик junior +\n",
       "216                                   junior ai developer\n",
       "330                  customer support junior / specialist\n",
       "343                         junior l1 operations engineer\n",
       "354                          младший инженер ит поддержки\n",
       "377                                  junior sales support\n",
       "488     junior tech support specialist (24/7 live-chat...\n",
       "554                                junior product manager\n",
       "560                                 junior .net developer\n",
       "646               business/system analyst (junior-middle)\n",
       "693       1с разработчик (уровень junior, работа с офиса)\n",
       "991                     junior frontend developer (react)\n",
       "994                           junior frontend разработчик\n",
       "996      младший системный аналитик/junior system analyst\n",
       "1004     junior full stack developer (no-code / low-code)\n",
       "1056                                   тестировщик junior\n",
       "Name: Job Title, dtype: object"
      ]
     },
     "execution_count": 52,
     "metadata": {},
     "output_type": "execute_result"
    }
   ],
   "source": [
    "# Select raws that contain words \"junior\" and \"младший\"\n",
    "\n",
    "junior = df_work[df_work.str.contains('junior|младший')]\n",
    "junior"
   ]
  },
  {
   "cell_type": "code",
   "execution_count": null,
   "id": "e396e0af-5947-47fc-b44a-bd90dfc67f20",
   "metadata": {},
   "outputs": [],
   "source": []
  }
 ],
 "metadata": {
  "kernelspec": {
   "display_name": "Python 3 (ipykernel)",
   "language": "python",
   "name": "python3"
  },
  "language_info": {
   "codemirror_mode": {
    "name": "ipython",
    "version": 3
   },
   "file_extension": ".py",
   "mimetype": "text/x-python",
   "name": "python",
   "nbconvert_exporter": "python",
   "pygments_lexer": "ipython3",
   "version": "3.10.12"
  }
 },
 "nbformat": 4,
 "nbformat_minor": 5
}
