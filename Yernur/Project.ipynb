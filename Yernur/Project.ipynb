{
 "cells": [
  {
   "cell_type": "code",
   "execution_count": 1,
   "id": "e3f70567-44e1-4335-b2fe-2574941837df",
   "metadata": {},
   "outputs": [],
   "source": [
    "import numpy as np\n",
    "import pandas as pd"
   ]
  },
  {
   "cell_type": "code",
   "execution_count": 45,
   "id": "0a2ca862-d88a-465c-a6ae-4f7d2f7e0cba",
   "metadata": {},
   "outputs": [],
   "source": [
    "# Make an Excel file consisting only of titles of vacancies\n",
    "\n",
    "df = pd.read_excel('job_listings_all_pages.xlsx')\n",
    "df_work = df['Job Title']\n",
    "# df_work.to_excel('titles.xlsx', index = False)"
   ]
  },
  {
   "cell_type": "code",
   "execution_count": 51,
   "id": "db822bf9-0cc0-4383-aa33-0d15ed65cda2",
   "metadata": {},
   "outputs": [],
   "source": [
    "# Convert every title to lower case and delete missing values\n",
    "\n",
    "df_work = df_work.str.lower()\n",
    "df_work = df_work.dropna()"
   ]
  },
  {
   "cell_type": "code",
   "execution_count": 54,
   "id": "0cce39fb-7632-434d-8d3d-e80155a4e6cf",
   "metadata": {},
   "outputs": [
    {
     "name": "stdout",
     "output_type": "stream",
     "text": [
      "<class 'pandas.core.series.Series'>\n",
      "Index: 26 entries, 9 to 1056\n",
      "Series name: Job Title\n",
      "Non-Null Count  Dtype \n",
      "--------------  ----- \n",
      "26 non-null     object\n",
      "dtypes: object(1)\n",
      "memory usage: 416.0+ bytes\n"
     ]
    }
   ],
   "source": [
    "# Select raws that contain words \"junior\" and \"младший\"\n",
    "\n",
    "junior = df_work[df_work.str.contains('junior|младший')]\n",
    "junior.info()"
   ]
  },
  {
   "cell_type": "code",
   "execution_count": 56,
   "id": "e396e0af-5947-47fc-b44a-bd90dfc67f20",
   "metadata": {},
   "outputs": [
    {
     "name": "stdout",
     "output_type": "stream",
     "text": [
      "<class 'pandas.core.series.Series'>\n",
      "RangeIndex: 26 entries, 0 to 25\n",
      "Series name: Job Title\n",
      "Non-Null Count  Dtype \n",
      "--------------  ----- \n",
      "26 non-null     object\n",
      "dtypes: object(1)\n",
      "memory usage: 336.0+ bytes\n"
     ]
    }
   ],
   "source": [
    "# Reset old indexing so new indexing will be from 0 to 25\n",
    "\n",
    "junior = junior.reset_index(drop=True)\n",
    "junior.info()"
   ]
  },
  {
   "cell_type": "code",
   "execution_count": null,
   "id": "1ae5cb61-7310-4489-bc3c-ffa87ba6cb47",
   "metadata": {},
   "outputs": [],
   "source": []
  }
 ],
 "metadata": {
  "kernelspec": {
   "display_name": "Python 3 (ipykernel)",
   "language": "python",
   "name": "python3"
  },
  "language_info": {
   "codemirror_mode": {
    "name": "ipython",
    "version": 3
   },
   "file_extension": ".py",
   "mimetype": "text/x-python",
   "name": "python",
   "nbconvert_exporter": "python",
   "pygments_lexer": "ipython3",
   "version": "3.10.12"
  }
 },
 "nbformat": 4,
 "nbformat_minor": 5
}
