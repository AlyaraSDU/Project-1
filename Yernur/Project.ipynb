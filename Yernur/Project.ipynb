{
 "cells": [
  {
   "cell_type": "code",
   "execution_count": 1,
   "id": "0a2ca862-d88a-465c-a6ae-4f7d2f7e0cba",
   "metadata": {},
   "outputs": [],
   "source": [
    "import numpy as np\n",
    "import pandas as pd"
   ]
  },
  {
   "cell_type": "code",
   "execution_count": 2,
   "id": "a0ff3d9e-dfbc-4dce-91e8-76c98c6075a5",
   "metadata": {},
   "outputs": [],
   "source": [
    "df = pd.read_excel('job_listings_all_pages.xlsx')"
   ]
  },
  {
   "cell_type": "code",
   "execution_count": 3,
   "id": "fada7e0b-0261-47ee-9d42-5871cc1c489a",
   "metadata": {},
   "outputs": [],
   "source": [
    "df_work = df['Job Title']"
   ]
  },
  {
   "cell_type": "code",
   "execution_count": 4,
   "id": "bc755d46-4a3a-4347-b9d5-71e733292c90",
   "metadata": {},
   "outputs": [],
   "source": [
    "df_work.to_excel('titles.xlsx', index = False)"
   ]
  },
  {
   "cell_type": "code",
   "execution_count": null,
   "id": "c521bf3e-1a99-40e3-ab11-954d7cd4cafb",
   "metadata": {},
   "outputs": [],
   "source": []
  }
 ],
 "metadata": {
  "kernelspec": {
   "display_name": "Python 3 (ipykernel)",
   "language": "python",
   "name": "python3"
  },
  "language_info": {
   "codemirror_mode": {
    "name": "ipython",
    "version": 3
   },
   "file_extension": ".py",
   "mimetype": "text/x-python",
   "name": "python",
   "nbconvert_exporter": "python",
   "pygments_lexer": "ipython3",
   "version": "3.10.12"
  }
 },
 "nbformat": 4,
 "nbformat_minor": 5
}
