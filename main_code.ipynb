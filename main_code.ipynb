{
 "cells": [
  {
   "cell_type": "code",
   "execution_count": 1,
   "id": "a72eda52-60c2-45de-825e-ed099a76f570",
   "metadata": {},
   "outputs": [],
   "source": [
    "# This is the main code of project 1 \n",
    "\n",
    "# SECTION 1\n",
    "# Parsing the hh.kz website and saving the data into excel file\n",
    "\n",
    "!/usr/bin/env python\n",
    "coding: utf-8\n",
    "\n",
    "import re\n",
    "from selenium import webdriver\n",
    "from selenium.webdriver.common.by import By\n",
    "import numpy as np\n",
    "import pandas as pd\n",
    "import time"
   ]
  },
  {
   "cell_type": "code",
   "execution_count": null,
   "id": "a07e1ebe-9895-4b77-a59a-89a64bbc3ba3",
   "metadata": {},
   "outputs": [],
   "source": [
    "# Set up the WebDriver (ensure ChromeDriver is installed and in PATH)\n",
    "\n",
    "driver = webdriver.Chrome()"
   ]
  },
  {
   "cell_type": "code",
   "execution_count": null,
   "id": "5dccc61e-789f-46dd-9b9d-a9de7721a2b3",
   "metadata": {},
   "outputs": [],
   "source": [
    "# Load the initial webpage\n",
    "\n",
    "base_url = \"https://almaty.hh.kz/search/vacancy?L_save_area=true&text=&excluded_text=&professional_role=156&professional_role=160&professional_role=150&professional_role=25&professional_role=165&professional_role=36&professional_role=96&professional_role=104&professional_role=157&professional_role=112&professional_role=113&professional_role=148&professional_role=114&professional_role=116&professional_role=121&professional_role=124&professional_role=125&area=160&salary=&currency_code=KZT&experience=doesNotMatter&order_by=relevance&search_period=0&items_on_page=50&hhtmFrom=vacancy_search_filter&page=\""
   ]
  },
  {
   "cell_type": "code",
   "execution_count": null,
   "id": "e823d739-a3b1-4409-bddc-24573185ae27",
   "metadata": {},
   "outputs": [],
   "source": [
    "# Scrape job listings across multiple pages, extracting details like title, \n",
    "# company, experience, salary, and requirements, and store them in a list.\n",
    "\n",
    "current_page = 1\n",
    "jobs = []\n",
    "\n",
    "while True:\n",
    "    # Construct the URL for the current page\n",
    "    url = f\"{base_url}{current_page}\"\n",
    "    driver.get(url)\n",
    "    time.sleep(5)\n",
    "\n",
    "    # Scroll down to ensure all elements are loaded\n",
    "    driver.execute_script(\"window.scrollTo(0, document.body.scrollHeight);\")\n",
    "    time.sleep(5)\n",
    "\n",
    "    # Extract job data using Selenium for consistency\n",
    "    vacancies = driver.find_elements(By.CSS_SELECTOR, \"div.vacancy-info--umZA61PpMY07JVJtomBA\")\n",
    "    if not vacancies:  # Stop if no more vacancies are found\n",
    "        break\n",
    "\n",
    "    for vacancy in vacancies:\n",
    "        try:\n",
    "            # Extracting the job title\n",
    "            try:\n",
    "                title_element = vacancy.find_element(By.CSS_SELECTOR, \"a[data-qa='serp-item__title']\")\n",
    "                title = title_element.text.strip()\n",
    "                link = title_element.get_attribute('href')\n",
    "            except:\n",
    "                title = 'Not specified'\n",
    "                link = 'Not specified'\n",
    "\n",
    "            # Extracting the company name\n",
    "            try:\n",
    "                company_element = vacancy.find_element(By.CSS_SELECTOR, \"a[data-qa='vacancy-serp__vacancy-employer']\")\n",
    "                company = company_element.text.strip()\n",
    "            except:\n",
    "                company = 'Not specified'\n",
    "\n",
    "            # Extracting experience information\n",
    "            try:\n",
    "                experience_element = vacancy.find_element(By.CLASS_NAME, \"magritte-tag__label___YHV-o_3-0-13\").get_attribute(\"innerHTML\")\n",
    "            except:\n",
    "                experience_element = 'Not specified'\n",
    "\n",
    "            # Extracting salary information\n",
    "            try:\n",
    "                salary = vacancy.find_element(By.CSS_SELECTOR, \"span.magritte-text___pbpft_3-0-15.magritte-text_style-primary___AQ7MW_3-0-15.magritte-text_typography-label-1-regular___pi3R-_3-0-15\").text\n",
    "            except:\n",
    "                salary = 'Not specified'\n",
    "\n",
    "            # Extracting requirement information\n",
    "            try:\n",
    "                requirement_element = vacancy.find_element(By.CSS_SELECTOR, \"div[data-qa='vacancy-serp__vacancy_snippet_requirement'] > span\").text.strip()\n",
    "            except:\n",
    "                requirement_element = 'Not specified'\n",
    "\n",
    "            # Appending the job information\n",
    "            jobs.append({\n",
    "                'Job Title': title,\n",
    "                'Company': company,\n",
    "                #'Location': location,\n",
    "                'Experience': experience_element,\n",
    "                'Salary': salary,\n",
    "                'Requirements': requirement_element,\n",
    "                'Link': link\n",
    "            })\n",
    "\n",
    "        except Exception as e:\n",
    "            print(f\"Error while extracting data for a job: {e}\")\n",
    "\n",
    "    # Move to the next page\n",
    "    current_page += 1"
   ]
  },
  {
   "cell_type": "code",
   "execution_count": null,
   "id": "da1fcf9a-1b46-468a-a0e3-719467fb1819",
   "metadata": {},
   "outputs": [],
   "source": [
    "# Close the WebDriver\n",
    "\n",
    "driver.quit()"
   ]
  },
  {
   "cell_type": "code",
   "execution_count": null,
   "id": "e943e985-17c3-43ed-8c75-50d584a574c0",
   "metadata": {},
   "outputs": [],
   "source": [
    "# Convert to DataFrame and save as Excel\n",
    "\n",
    "df = pd.DataFrame(jobs)\n",
    "print(df)\n",
    "df.to_excel('job_listings_all_pages.xlsx', index=False)"
   ]
  },
  {
   "cell_type": "code",
   "execution_count": null,
   "id": "cdb036c6-d1c5-466b-831f-c0113fb68eeb",
   "metadata": {},
   "outputs": [],
   "source": []
  },
  {
   "cell_type": "code",
   "execution_count": null,
   "id": "8767d784-3e4e-41f7-a365-119729f2b0f5",
   "metadata": {},
   "outputs": [],
   "source": [
    "# SECTION 2\n",
    "# Research question 1:\n",
    "# What is the most popular specialization among junior-level developer vacancies?\n",
    "\n",
    "# Make an Excel file consisting only of titles of vacancies\n",
    "\n",
    "df = pd.read_excel('job_listings_all_pages.xlsx')\n",
    "df_work = df['Job Title']\n",
    "df_work.to_excel('titles.xlsx', index = False)"
   ]
  },
  {
   "cell_type": "code",
   "execution_count": null,
   "id": "2524d835-aa53-4cf7-9d05-cd14d7544dad",
   "metadata": {},
   "outputs": [],
   "source": [
    "# Convert every title to lower case and delete missing values\n",
    "\n",
    "df_work = df_work.str.lower()\n",
    "df_work = df_work.dropna()\n",
    "df_work.head(5)"
   ]
  },
  {
   "cell_type": "code",
   "execution_count": null,
   "id": "d83e9e5e-4198-4c13-a8e8-25cb2767b09e",
   "metadata": {},
   "outputs": [],
   "source": [
    "# Select raws that contain words \"junior\" and \"младший\"\n",
    "\n",
    "junior = df_work[df_work.str.contains('junior|младший')]\n",
    "junior"
   ]
  },
  {
   "cell_type": "code",
   "execution_count": null,
   "id": "5449eef7-8c1e-49a4-8a3a-57c411349239",
   "metadata": {},
   "outputs": [],
   "source": [
    "# Reset old indexing so new indexing will be from 0 to 25\n",
    "\n",
    "junior = junior.reset_index(drop=True)\n",
    "junior.info()"
   ]
  },
  {
   "cell_type": "code",
   "execution_count": null,
   "id": "e37f6cb8-5b98-4dc1-bc2d-0198b5566a94",
   "metadata": {},
   "outputs": [],
   "source": [
    "# Create a dictionary of key words that target professions\n",
    "\n",
    "result_dic = {\n",
    "    \"Helpdesk\": [\"специалист\", \"specialist\", \"поддержки\", \"l1\", \"product\"],\n",
    "    \"Cybersecurity\": [\"cyber\"],\n",
    "    \"Front end\": [\"frontend\"],\n",
    "    \"Python\": [\"python\"],\n",
    "    \"Analyst\": [\"analyst\", \"аналитик\", \"sales\"],\n",
    "    \"Back end\": [\"backend\"],\n",
    "    \"DevOps\": [\"devops\"],\n",
    "    \"Tester\": [\"qa-engineer\", \"тестировщик\"],\n",
    "    \".NET developer\": [\".net\"],\n",
    "    \"AI developer\": [\"ai\"],\n",
    "    \"1C developer\": [\"1с\"],\n",
    "    \"Full stack\": [\"full\"]\n",
    "}\n",
    "result_dic"
   ]
  },
  {
   "cell_type": "code",
   "execution_count": null,
   "id": "2739e50e-0da8-4024-a546-889e1eb44a10",
   "metadata": {},
   "outputs": [],
   "source": [
    "# Function that merges different descriptions of the same profession into one\n",
    "\n",
    "def normalize_title(title):\n",
    "    for profession, keywords in result_dic.items():\n",
    "        if any(keyword in title for keyword in keywords):\n",
    "            return profession"
   ]
  },
  {
   "cell_type": "code",
   "execution_count": null,
   "id": "d1d5d6a3-5a43-42a5-9686-1553957bd0dc",
   "metadata": {},
   "outputs": [],
   "source": [
    "# Create a new column with normalized job titles\n",
    "\n",
    "jobs = junior.apply(normalize_title)\n",
    "jobs"
   ]
  },
  {
   "cell_type": "code",
   "execution_count": null,
   "id": "56c6ae8b-3491-4782-990c-82593c172178",
   "metadata": {},
   "outputs": [],
   "source": [
    "# Count occurrences of each IT profession and display the result\n",
    "\n",
    "profession_count = jobs.value_counts()\n",
    "print(profession_count)"
   ]
  },
  {
   "cell_type": "code",
   "execution_count": null,
   "id": "1d25ec6d-fe9e-4bfb-9ac4-98fac4faf93b",
   "metadata": {},
   "outputs": [],
   "source": []
  },
  {
   "cell_type": "code",
   "execution_count": null,
   "id": "c958c3fd-1bd4-4568-95e8-719d4e31d4ad",
   "metadata": {},
   "outputs": [],
   "source": [
    "# SECTION 3\n",
    "# Research question 2:\n",
    "# Which company is hiring the most, and what levels of specialization are they hiring?\n",
    "\n",
    "# Read excel file with parsed data as DataFrame\n",
    "\n",
    "df = pd.read_excel('Project/job_listings_all_pages.xlsx')\n",
    "df"
   ]
  },
  {
   "cell_type": "code",
   "execution_count": null,
   "id": "6798e3a2-b8b5-4a47-8246-49993fdc6cec",
   "metadata": {},
   "outputs": [],
   "source": [
    "# Count vacancies in each company to get the most hiring one.\n",
    "\n",
    "count_c = df['Company'].value_counts(dropna=False)\n",
    "print(count_c)"
   ]
  },
  {
   "cell_type": "code",
   "execution_count": null,
   "id": "2e85e625-7f5a-4c84-b223-69bad80dfe18",
   "metadata": {},
   "outputs": [],
   "source": [
    "# Save vacancies of the most hiring company to new DF.\n",
    "\n",
    "mh_company = df[df['Company']=='АО Народный банк Казахстана']\n",
    "mh_company"
   ]
  },
  {
   "cell_type": "code",
   "execution_count": null,
   "id": "eb06d19b-cd0b-4b1c-b2f9-c4fca99ed046",
   "metadata": {},
   "outputs": [],
   "source": [
    "# Change text in Experience column to readable one.\n",
    "\n",
    "mh_company.loc[mh_company['Experience']=='Опыт более 6&nbsp;лет', 'Experience'] = 'Опыт более 6 лет'\n",
    "mh_company"
   ]
  },
  {
   "cell_type": "code",
   "execution_count": null,
   "id": "ceb08e4e-4094-47c8-a8c4-7c67955e7431",
   "metadata": {},
   "outputs": [],
   "source": [
    "# Write experience levels to a list\n",
    "\n",
    "experience = mh_company['Experience'].unique().tolist()\n",
    "experience"
   ]
  },
  {
   "cell_type": "code",
   "execution_count": null,
   "id": "6ae830e5-4d49-41a8-bb17-d8578e4d6bc2",
   "metadata": {},
   "outputs": [],
   "source": [
    "# Count how many vacancies are there for each experience level\n",
    "\n",
    "count_level = mh_company['Experience'].value_counts(dropna=False)\n",
    "count_level"
   ]
  },
  {
   "cell_type": "code",
   "execution_count": null,
   "id": "2e432482-1db3-46ea-9152-a3a15e84ddc1",
   "metadata": {},
   "outputs": [],
   "source": [
    "# Write all results to one list\n",
    "\n",
    "results = [count_c.head(1), count_level]\n",
    "results"
   ]
  }
 ],
 "metadata": {
  "kernelspec": {
   "display_name": "Python 3 (ipykernel)",
   "language": "python",
   "name": "python3"
  },
  "language_info": {
   "codemirror_mode": {
    "name": "ipython",
    "version": 3
   },
   "file_extension": ".py",
   "mimetype": "text/x-python",
   "name": "python",
   "nbconvert_exporter": "python",
   "pygments_lexer": "ipython3",
   "version": "3.10.12"
  }
 },
 "nbformat": 4,
 "nbformat_minor": 5
}
